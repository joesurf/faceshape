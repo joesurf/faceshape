{
 "cells": [
  {
   "attachments": {},
   "cell_type": "markdown",
   "metadata": {},
   "source": [
    "## Training Neural Networks to Recognise Face Shape \n",
    "\n",
    "This notebook implements Image Classification Machine Learning Model to classify 6 different face shapes.\n",
    "\n",
    "- Train convolutional neural network on face shape dataset\n",
    "- "
   ]
  },
  {
   "cell_type": "code",
   "execution_count": 3,
   "metadata": {},
   "outputs": [
    {
     "name": "stdout",
     "output_type": "stream",
     "text": [
      "Region: us-east-1\n",
      "Default S3 Bucket: image-classification-transfer-learning\n"
     ]
    }
   ],
   "source": [
    "# Import packages\n",
    "import sagemaker\n",
    "import boto3\n",
    "from sagemaker.session import Session\n",
    "from sagemaker import get_execution_role\n",
    "\n",
    "# Initialize variables\n",
    "role = get_execution_role()\n",
    "sagemaker_session = sagemaker.Session()\n",
    "region = sagemaker_session.boto_region_name\n",
    "bucket = 'image-classification-face-shape'\n",
    "\n",
    "print(f'Region: {region}')\n",
    "print(f'Default S3 Bucket: {bucket}')"
   ]
  },
  {
   "attachments": {},
   "cell_type": "markdown",
   "metadata": {},
   "source": [
    "## Dataset\n",
    "The dataset contains face shape images categories of 6, split into train and test folders."
   ]
  },
  {
   "cell_type": "code",
   "execution_count": 5,
   "metadata": {},
   "outputs": [
    {
     "name": "stdout",
     "output_type": "stream",
     "text": [
      "Uploading dog images...\n",
      "Input S3 file path: s3://image-classification-transfer-learning/dogImages\n"
     ]
    }
   ],
   "source": [
    "prefix = 'faceShapeImages'\n",
    "print('Uploading face shape images...')\n",
    "\n",
    "inputs = sagemaker_session.upload_data(\n",
    "    path='faceShapeImages',\n",
    "    bucket=bucket,\n",
    "    key_prefix=prefix)\n",
    "print(f'Input S3 file path: {inputs}')"
   ]
  },
  {
   "attachments": {},
   "cell_type": "markdown",
   "metadata": {},
   "source": [
    "## Hyperparameter Tuning\n"
   ]
  },
  {
   "cell_type": "code",
   "execution_count": 6,
   "metadata": {},
   "outputs": [],
   "source": [
    "from sagemaker.tuner import (\n",
    "    CategoricalParameter,\n",
    "    ContinuousParameter,\n",
    "    HyperparameterTuner,\n",
    ")"
   ]
  }
 ],
 "metadata": {
  "instance_type": "ml.t3.medium",
  "kernelspec": {
   "display_name": "Python 3",
   "language": "python",
   "name": "python3"
  },
  "language_info": {
   "codemirror_mode": {
    "name": "ipython",
    "version": 3
   },
   "file_extension": ".py",
   "mimetype": "text/x-python",
   "name": "python",
   "nbconvert_exporter": "python",
   "pygments_lexer": "ipython3",
   "version": "3.8.5 (default, Sep  4 2020, 02:22:02) \n[Clang 10.0.0 ]"
  },
  "vscode": {
   "interpreter": {
    "hash": "40d3a090f54c6569ab1632332b64b2c03c39dcf918b08424e98f38b5ae0af88f"
   }
  }
 },
 "nbformat": 4,
 "nbformat_minor": 4
}
